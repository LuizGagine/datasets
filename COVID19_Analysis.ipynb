{
 "cells": [
  {
   "cell_type": "code",
   "execution_count": null,
   "id": "7a1abc09-86a9-4482-af2e-9e94602ce3e3",
   "metadata": {
    "ExecuteTime": null,
    "collapsed": false,
    "jupyter": {
     "outputs_hidden": false,
     "source_hidden": false
    },
    "noteable": {
     "cell_type": "code"
    },
    "tags": []
   },
   "outputs": [],
   "source": [
    "import pandas as pd\n",
    "import numpy as np\n",
    "import matplotlib.pyplot as plt\n",
    "import seaborn as sns\n",
    "from sklearn.decomposition import PCA\n",
    "from sklearn.preprocessing import StandardScaler\n",
    "from sklearn.cluster import KMeans\n",
    "import requests\n",
    "from io import StringIO\n",
    "from sklearn.preprocessing import StandardScaler\n",
    "from sklearn.decomposition import PCA\n",
    "from sklearn.cluster import KMeans\n",
    "import matplotlib.pyplot as plt\n",
    "import seaborn as sns\n",
    "\n",
    "#Import Data\n",
    "url = 'https://raw.githubusercontent.com/LuizGagine/datasets/main/DADOS_COVID19_MUNICIPIO.csv'\n",
    "data = requests.get(url).content\n",
    "df = pd.read_csv(StringIO(data.decode('utf-8')), delimiter=';', decimal=',')"
   ]
  },
  {
   "cell_type": "code",
   "execution_count": null,
   "id": "0978216f-f3f8-4100-8602-a8bec854419d",
   "metadata": {
    "ExecuteTime": null,
    "collapsed": false,
    "jupyter": {
     "outputs_hidden": false,
     "source_hidden": false
    },
    "noteable": {
     "cell_type": "code"
    }
   },
   "outputs": [],
   "source": [
    "# Calculate correlation matrix\n",
    "correlation_matrix = df.corr()\n",
    "# Plotting correlation matrix in a different style\n",
    "plt.figure(figsize=(20, 20))\n",
    "sns.heatmap(correlation_matrix, annot=True, fmt='.2f', square=True, cmap = 'coolwarm')\n",
    "plt.title('Correlation matrix of all variables')\n",
    "plt.show()"
   ]
  },
  {
   "cell_type": "code",
   "execution_count": null,
   "id": "1f1215ca-33dc-4886-b73c-ed47269c9de6",
   "metadata": {
    "ExecuteTime": {
     "end_time": "2023-06-06T16:18:57.442309+00:00",
     "start_time": "2023-06-06T16:18:53.606249+00:00"
    },
    "collapsed": false,
    "jupyter": {
     "outputs_hidden": false,
     "source_hidden": false
    },
    "noteable": {
     "cell_type": "code"
    }
   },
   "outputs": [],
   "source": [
    "#Select best variables based on influence\n",
    "selected_df = df[['COD_MUNICIPIO','TX_CASOS_CONFIRMADOS', 'TX_OBITO', 'TX_VACINA_DOSE_ADICIONAL', 'TX_LEITOS_TOTAL', 'IDHM', 'IDHM_E', 'RENDA_PER_CAPITA', 'INDICE_GINI', 'IDHM_L', 'PORCENTAGEM_POPULACAO_MASCULINA', 'TX_VACINA_DOSE_REFORCO_3', 'TX_VACINA_DOSE_REFORCO_1', 'TX_LEITOS_NAO_SUS', 'IDHM_R']]"
   ]
  },
  {
   "cell_type": "code",
   "execution_count": null,
   "id": "a2cc11ec-214b-4078-938c-9b72ba93626c",
   "metadata": {
    "ExecuteTime": {
     "end_time": "2023-06-06T16:18:58.814100+00:00",
     "start_time": "2023-06-06T16:18:53.613976+00:00"
    },
    "collapsed": false,
    "jupyter": {
     "outputs_hidden": false,
     "source_hidden": false
    },
    "noteable": {
     "cell_type": "code"
    }
   },
   "outputs": [],
   "source": [
    "# Calculate correlation matrix for the selected variables\n",
    "selected_correlation_matrix = selected_df.corr()\n",
    "# Plotting correlation matrix\n",
    "plt.figure(figsize=(20, 20))\n",
    "sns.heatmap(selected_correlation_matrix, annot=True, fmt='.2f', square=True, cmap = 'coolwarm')\n",
    "plt.title('')\n",
    "plt.show()"
   ]
  },
  {
   "cell_type": "code",
   "execution_count": null,
   "id": "ff915dce-0b1a-4311-b8be-b8c86a9fab9d",
   "metadata": {
    "ExecuteTime": {
     "end_time": "2023-06-06T16:19:00.790726+00:00",
     "start_time": "2023-06-06T16:18:59.193932+00:00"
    },
    "collapsed": false,
    "jupyter": {
     "outputs_hidden": false,
     "source_hidden": false
    },
    "noteable": {
     "cell_type": "code"
    }
   },
   "outputs": [],
   "source": [
    "from sklearn.cluster import KMeans\n",
    "from sklearn.preprocessing import StandardScaler\n",
    "from sklearn.decomposition import PCA\n",
    "# Standardize the data\n",
    "scaler = StandardScaler()\n",
    "scaled_selected_df = scaler.fit_transform(selected_df)\n",
    "# Apply PCA\n",
    "pca = PCA(n_components=2)\n",
    "principalComponents = pca.fit_transform(scaled_selected_df)\n",
    "principalDf = pd.DataFrame(data = principalComponents, columns = ['principal component 1', 'principal component 2'])"
   ]
  },
  {
   "cell_type": "code",
   "execution_count": null,
   "id": "ef7241c0-437a-4e4c-9603-e3808055444a",
   "metadata": {
    "ExecuteTime": {
     "end_time": "2023-06-06T16:19:02.389596+00:00",
     "start_time": "2023-06-06T16:18:59.202606+00:00"
    },
    "collapsed": false,
    "jupyter": {
     "outputs_hidden": false,
     "source_hidden": false
    },
    "noteable": {
     "cell_type": "code"
    }
   },
   "outputs": [],
   "source": [
    "import os\n",
    "os.environ['OMP_NUM_THREADS'] = '9'\n",
    "from sklearn.cluster import KMeans\n",
    "# Calculate the sum of squared distances for different numbers of clusters\n",
    "sum_of_squared_distances = []\n",
    "K = range(1,15)\n",
    "for k in K:\n",
    "    km = KMeans(n_clusters=k, n_init=10)\n",
    "    km = km.fit(principalDf)\n",
    "    sum_of_squared_distances.append(km.inertia_)\n",
    "# Plot the elbow curve\n",
    "plt.plot(K, sum_of_squared_distances, 'bx-')\n",
    "plt.xlabel('k (number of clusters)')\n",
    "plt.ylabel('Sum of squared distances')\n",
    "plt.title('Elbow Method For Optimal k')\n",
    "plt.show()"
   ]
  },
  {
   "cell_type": "code",
   "execution_count": null,
   "id": "e4fa9397-9eb8-40ca-bad5-3b7684680c95",
   "metadata": {
    "ExecuteTime": {
     "end_time": "2023-06-06T16:19:02.574756+00:00",
     "start_time": "2023-06-06T16:19:00.111624+00:00"
    },
    "collapsed": false,
    "jupyter": {
     "outputs_hidden": false,
     "source_hidden": false
    },
    "noteable": {
     "cell_type": "code"
    }
   },
   "outputs": [],
   "source": [
    "# Apply KMeans clustering\n",
    "kmeans = KMeans(n_clusters=3, random_state=0, n_init=10).fit(principalDf)\n",
    "# Add the cluster labels to the original DataFrame\n",
    "selected_df['Cluster'] = kmeans.labels_"
   ]
  },
  {
   "cell_type": "code",
   "execution_count": null,
   "id": "39f6e238-5c36-44e8-abe2-2a3b8de574bd",
   "metadata": {
    "ExecuteTime": {
     "end_time": "2023-06-06T16:19:02.779954+00:00",
     "start_time": "2023-06-06T16:19:01.193756+00:00"
    },
    "collapsed": false,
    "datalink": {
     "bdc61a53-1d77-4d6b-9089-1ec1ff594690": {
      "applied_filters": [],
      "dataframe_info": {
       "default_index_used": false,
       "orig_num_cols": 1,
       "orig_num_rows": 15,
       "orig_size_bytes": 240,
       "truncated_num_cols": 1,
       "truncated_num_rows": 15,
       "truncated_size_bytes": 240,
       "truncated_string_columns": []
      },
      "display_id": "bdc61a53-1d77-4d6b-9089-1ec1ff594690",
      "dx_settings": {
       "ALLOW_NOTEABLE_ATTRS": true,
       "COLUMN_SAMPLING_METHOD": "outer",
       "DB_LOCATION": ":memory:",
       "DEV_MODE": false,
       "DISPLAY_MAX_COLUMNS": 100,
       "DISPLAY_MAX_ROWS": 50000,
       "DISPLAY_MODE": "simple",
       "ENABLE_ASSIGNMENT": true,
       "ENABLE_DATALINK": true,
       "FLATTEN_COLUMN_VALUES": true,
       "FLATTEN_INDEX_VALUES": false,
       "GENERATE_DEX_METADATA": false,
       "HTML_TABLE_SCHEMA": false,
       "LOG_LEVEL": 30,
       "MAX_RENDER_SIZE_BYTES": 104857600,
       "MAX_STRING_LENGTH": 250,
       "NUM_PAST_SAMPLES_TRACKED": 3,
       "RANDOM_STATE": 12648430,
       "RESET_INDEX_VALUES": false,
       "ROW_SAMPLING_METHOD": "random",
       "SAMPLING_FACTOR": 0.1,
       "SAMPLING_METHOD": "random",
       "STRINGIFY_COLUMN_VALUES": true,
       "STRINGIFY_INDEX_VALUES": false
      },
      "sample_history": [],
      "sampling_time": "2023-06-06T16:19:02.624062",
      "user_variable_name": null,
      "variable_name": "unk_dataframe_fe0ea40a93bd4e369671b20046cf7f21"
     },
     "c8f4ef32-0d93-464c-addb-5cc3f969a458": {
      "applied_filters": [],
      "dataframe_info": {
       "default_index_used": false,
       "orig_num_cols": 1,
       "orig_num_rows": 15,
       "orig_size_bytes": 240,
       "truncated_num_cols": 1,
       "truncated_num_rows": 15,
       "truncated_size_bytes": 240,
       "truncated_string_columns": []
      },
      "display_id": "c8f4ef32-0d93-464c-addb-5cc3f969a458",
      "dx_settings": {
       "ALLOW_NOTEABLE_ATTRS": true,
       "COLUMN_SAMPLING_METHOD": "outer",
       "DB_LOCATION": ":memory:",
       "DEV_MODE": false,
       "DISPLAY_MAX_COLUMNS": 100,
       "DISPLAY_MAX_ROWS": 50000,
       "DISPLAY_MODE": "simple",
       "ENABLE_ASSIGNMENT": true,
       "ENABLE_DATALINK": true,
       "FLATTEN_COLUMN_VALUES": true,
       "FLATTEN_INDEX_VALUES": false,
       "GENERATE_DEX_METADATA": false,
       "HTML_TABLE_SCHEMA": false,
       "LOG_LEVEL": 30,
       "MAX_RENDER_SIZE_BYTES": 104857600,
       "MAX_STRING_LENGTH": 250,
       "NUM_PAST_SAMPLES_TRACKED": 3,
       "RANDOM_STATE": 12648430,
       "RESET_INDEX_VALUES": false,
       "ROW_SAMPLING_METHOD": "random",
       "SAMPLING_FACTOR": 0.1,
       "SAMPLING_METHOD": "random",
       "STRINGIFY_COLUMN_VALUES": true,
       "STRINGIFY_INDEX_VALUES": false
      },
      "sample_history": [],
      "sampling_time": "2023-06-05T08:09:45.791101",
      "user_variable_name": null,
      "variable_name": "unk_dataframe_8eaea1e16bf64d3cbc0adbe11a4a92dd"
     }
    },
    "jupyter": {
     "outputs_hidden": false,
     "source_hidden": false
    },
    "noteable": {
     "cell_type": "code"
    }
   },
   "outputs": [],
   "source": [
    "# Calculate the mean values for each cluster\n",
    "cluster_means = selected_df.groupby('Cluster').mean()\n",
    "# Identify the cluster with the highest incidence of COVID cases and deaths\n",
    "highest_incidence_cluster = cluster_means['TX_CASOS_CONFIRMADOS'].idxmax()\n",
    "# Display the mean values for the cluster with the highest incidence\n",
    "highest_incidence_cluster"
   ]
  },
  {
   "cell_type": "code",
   "execution_count": null,
   "id": "a054dc6e-0096-4e83-90bd-cfda5cf873c1",
   "metadata": {},
   "outputs": [],
   "source": [
    "cluster_means.loc[highest_incidence_cluster]"
   ]
  },
  {
   "cell_type": "code",
   "execution_count": null,
   "id": "9c776c27-4c74-4866-8bf5-5920a9b504af",
   "metadata": {
    "ExecuteTime": null,
    "collapsed": false,
    "datalink": {
     "70f5de72-6cff-4637-9346-4a93a3e92334": {
      "applied_filters": [],
      "dataframe_info": {
       "default_index_used": false,
       "orig_num_cols": 15,
       "orig_num_rows": 2,
       "orig_size_bytes": 256,
       "truncated_num_cols": 15,
       "truncated_num_rows": 2,
       "truncated_size_bytes": 256,
       "truncated_string_columns": []
      },
      "display_id": "70f5de72-6cff-4637-9346-4a93a3e92334",
      "dx_settings": {
       "ALLOW_NOTEABLE_ATTRS": true,
       "COLUMN_SAMPLING_METHOD": "outer",
       "DB_LOCATION": ":memory:",
       "DEV_MODE": false,
       "DISPLAY_MAX_COLUMNS": 100,
       "DISPLAY_MAX_ROWS": 50000,
       "DISPLAY_MODE": "simple",
       "ENABLE_ASSIGNMENT": true,
       "ENABLE_DATALINK": true,
       "FLATTEN_COLUMN_VALUES": true,
       "FLATTEN_INDEX_VALUES": false,
       "GENERATE_DEX_METADATA": false,
       "HTML_TABLE_SCHEMA": false,
       "LOG_LEVEL": 30,
       "MAX_RENDER_SIZE_BYTES": 104857600,
       "MAX_STRING_LENGTH": 250,
       "NUM_PAST_SAMPLES_TRACKED": 3,
       "RANDOM_STATE": 12648430,
       "RESET_INDEX_VALUES": false,
       "ROW_SAMPLING_METHOD": "random",
       "SAMPLING_FACTOR": 0.1,
       "SAMPLING_METHOD": "random",
       "STRINGIFY_COLUMN_VALUES": true,
       "STRINGIFY_INDEX_VALUES": false
      },
      "sample_history": [],
      "sampling_time": "2023-06-05T06:18:57.425837",
      "user_variable_name": null,
      "variable_name": "unk_dataframe_ed6a0581454b487fbead2b66b030f2f1"
     },
     "8e857714-41d5-4048-a861-977e94e11f8a": {
      "applied_filters": [],
      "dataframe_info": {
       "default_index_used": false,
       "orig_num_cols": 15,
       "orig_num_rows": 2,
       "orig_size_bytes": 256,
       "truncated_num_cols": 15,
       "truncated_num_rows": 2,
       "truncated_size_bytes": 256,
       "truncated_string_columns": []
      },
      "display_id": "8e857714-41d5-4048-a861-977e94e11f8a",
      "dx_settings": {
       "ALLOW_NOTEABLE_ATTRS": true,
       "COLUMN_SAMPLING_METHOD": "outer",
       "DB_LOCATION": ":memory:",
       "DEV_MODE": false,
       "DISPLAY_MAX_COLUMNS": 100,
       "DISPLAY_MAX_ROWS": 50000,
       "DISPLAY_MODE": "simple",
       "ENABLE_ASSIGNMENT": true,
       "ENABLE_DATALINK": true,
       "FLATTEN_COLUMN_VALUES": true,
       "FLATTEN_INDEX_VALUES": false,
       "GENERATE_DEX_METADATA": false,
       "HTML_TABLE_SCHEMA": false,
       "LOG_LEVEL": 30,
       "MAX_RENDER_SIZE_BYTES": 104857600,
       "MAX_STRING_LENGTH": 250,
       "NUM_PAST_SAMPLES_TRACKED": 3,
       "RANDOM_STATE": 12648430,
       "RESET_INDEX_VALUES": false,
       "ROW_SAMPLING_METHOD": "random",
       "SAMPLING_FACTOR": 0.1,
       "SAMPLING_METHOD": "random",
       "STRINGIFY_COLUMN_VALUES": true,
       "STRINGIFY_INDEX_VALUES": false
      },
      "sample_history": [],
      "sampling_time": "2023-06-05T04:18:46.808746",
      "user_variable_name": null,
      "variable_name": "unk_dataframe_3b8f7dda5ece48e4b24c8a608c617960"
     },
     "a2be50e1-fc63-48b9-aad0-0990f6956206": {
      "applied_filters": [],
      "dataframe_info": {
       "default_index_used": false,
       "orig_num_cols": 15,
       "orig_num_rows": 2,
       "orig_size_bytes": 256,
       "truncated_num_cols": 15,
       "truncated_num_rows": 2,
       "truncated_size_bytes": 256,
       "truncated_string_columns": []
      },
      "display_id": "a2be50e1-fc63-48b9-aad0-0990f6956206",
      "dx_settings": {
       "ALLOW_NOTEABLE_ATTRS": true,
       "COLUMN_SAMPLING_METHOD": "outer",
       "DB_LOCATION": ":memory:",
       "DEV_MODE": false,
       "DISPLAY_MAX_COLUMNS": 100,
       "DISPLAY_MAX_ROWS": 50000,
       "DISPLAY_MODE": "simple",
       "ENABLE_ASSIGNMENT": true,
       "ENABLE_DATALINK": true,
       "FLATTEN_COLUMN_VALUES": true,
       "FLATTEN_INDEX_VALUES": false,
       "GENERATE_DEX_METADATA": false,
       "HTML_TABLE_SCHEMA": false,
       "LOG_LEVEL": 30,
       "MAX_RENDER_SIZE_BYTES": 104857600,
       "MAX_STRING_LENGTH": 250,
       "NUM_PAST_SAMPLES_TRACKED": 3,
       "RANDOM_STATE": 12648430,
       "RESET_INDEX_VALUES": false,
       "ROW_SAMPLING_METHOD": "random",
       "SAMPLING_FACTOR": 0.1,
       "SAMPLING_METHOD": "random",
       "STRINGIFY_COLUMN_VALUES": true,
       "STRINGIFY_INDEX_VALUES": false
      },
      "sample_history": [],
      "sampling_time": "2023-06-05T08:09:46.024849",
      "user_variable_name": null,
      "variable_name": "unk_dataframe_f1f42067a5e74557af0d78ea3c38d518"
     },
     "abbc1c8f-4655-48b1-87c6-8ccfe147bbe2": {
      "applied_filters": [],
      "dataframe_info": {
       "default_index_used": false,
       "orig_num_cols": 15,
       "orig_num_rows": 2,
       "orig_size_bytes": 256,
       "truncated_num_cols": 15,
       "truncated_num_rows": 2,
       "truncated_size_bytes": 256,
       "truncated_string_columns": []
      },
      "display_id": "abbc1c8f-4655-48b1-87c6-8ccfe147bbe2",
      "dx_settings": {
       "ALLOW_NOTEABLE_ATTRS": true,
       "COLUMN_SAMPLING_METHOD": "outer",
       "DB_LOCATION": ":memory:",
       "DEV_MODE": false,
       "DISPLAY_MAX_COLUMNS": 100,
       "DISPLAY_MAX_ROWS": 50000,
       "DISPLAY_MODE": "simple",
       "ENABLE_ASSIGNMENT": true,
       "ENABLE_DATALINK": true,
       "FLATTEN_COLUMN_VALUES": true,
       "FLATTEN_INDEX_VALUES": false,
       "GENERATE_DEX_METADATA": false,
       "HTML_TABLE_SCHEMA": false,
       "LOG_LEVEL": 30,
       "MAX_RENDER_SIZE_BYTES": 104857600,
       "MAX_STRING_LENGTH": 250,
       "NUM_PAST_SAMPLES_TRACKED": 3,
       "RANDOM_STATE": 12648430,
       "RESET_INDEX_VALUES": false,
       "ROW_SAMPLING_METHOD": "random",
       "SAMPLING_FACTOR": 0.1,
       "SAMPLING_METHOD": "random",
       "STRINGIFY_COLUMN_VALUES": true,
       "STRINGIFY_INDEX_VALUES": false
      },
      "sample_history": [],
      "sampling_time": "2023-06-05T06:25:19.144159",
      "user_variable_name": null,
      "variable_name": "unk_dataframe_fe923b40e59145c4923edc66bd190776"
     }
    },
    "jupyter": {
     "outputs_hidden": false,
     "source_hidden": false
    },
    "noteable": {
     "cell_type": "code"
    }
   },
   "outputs": [],
   "source": [
    "# Display the mean values for the other clusters\n",
    "cluster_means.drop(highest_incidence_cluster)"
   ]
  },
  {
   "cell_type": "code",
   "execution_count": null,
   "id": "730e48c5-e914-49b5-b271-30d5e2e22409",
   "metadata": {
    "ExecuteTime": null,
    "collapsed": false,
    "jupyter": {
     "outputs_hidden": false,
     "source_hidden": false
    },
    "noteable": {
     "cell_type": "code"
    }
   },
   "outputs": [],
   "source": [
    "# Plotting the clusters\n",
    "plt.figure(figsize=(10, 10))\n",
    "scatter = plt.scatter(principalDf['principal component 1'], principalDf['principal component 2'], c=selected_df['Cluster'], cmap='viridis')\n",
    "plt.title('')\n",
    "plt.xlabel('Componente Principal 1')\n",
    "plt.ylabel('Componente Principal 1')\n",
    "legend1 = plt.legend(*scatter.legend_elements(), title='Clusters')\n",
    "plt.add_artist(legend1)\n",
    "plt.show()"
   ]
  },
  {
   "cell_type": "code",
   "execution_count": null,
   "id": "e7125860-26e6-482a-bd8e-73ca2c9b2b23",
   "metadata": {
    "ExecuteTime": null,
    "collapsed": false,
    "jupyter": {
     "outputs_hidden": false,
     "source_hidden": false
    },
    "noteable": {
     "cell_type": "code"
    },
    "tags": []
   },
   "outputs": [],
   "source": [
    "from sklearn.metrics import silhouette_score, davies_bouldin_score\n",
    "# Calculate Silhouette Score\n",
    "silhouette_avg = silhouette_score(principalDf, selected_df['Cluster'])\n",
    "print('Silhouette Score: ', silhouette_avg)\n",
    "# Calculate Davies-Bouldin Score\n",
    "db_score = davies_bouldin_score(principalDf, selected_df['Cluster'])\n",
    "print('Davies-Bouldin Score: ', db_score)"
   ]
  },
  {
   "cell_type": "code",
   "execution_count": null,
   "id": "fc4aeb72-d6dc-4a4e-9e71-00808a8d8874",
   "metadata": {
    "ExecuteTime": {
     "end_time": "2023-06-05T08:09:48.542025+00:00",
     "start_time": "2023-06-05T08:09:48.043533+00:00"
    },
    "collapsed": false,
    "jupyter": {
     "outputs_hidden": false,
     "source_hidden": false
    },
    "noteable": {
     "cell_type": "code"
    },
    "tags": []
   },
   "outputs": [],
   "source": [
    "from sklearn.metrics.pairwise import euclidean_distances\n",
    "import numpy as np\n",
    "def dunn_index(X, labels):\n",
    "    distances = euclidean_distances(X)\n",
    "    unique_labels = np.unique(labels)\n",
    "    inter_cluster_distances = np.inf\n",
    "    intra_cluster_distances = 0\n",
    "    for label in unique_labels:\n",
    "        members = labels == label\n",
    "        distances_to_cluster = distances[members, :][:, members]\n",
    "        intra_cluster_distances = max(intra_cluster_distances, distances_to_cluster.max())\n",
    "        for other_label in unique_labels:\n",
    "            if label != other_label:\n",
    "                distances_to_other_cluster = distances[members, :][:, labels == other_label]\n",
    "                inter_cluster_distances = min(inter_cluster_distances, distances_to_other_cluster.min())\n",
    "    return inter_cluster_distances / intra_cluster_distances\n",
    "dunn_index_value = dunn_index(principalDf.values, selected_df['Cluster'].values)\n",
    "print('Dunn Index: ', dunn_index_value)"
   ]
  },
  {
   "cell_type": "code",
   "execution_count": null,
   "id": "2a943627-72be-4ea8-b7f8-80b13a44e0e2",
   "metadata": {
    "ExecuteTime": {
     "end_time": "2023-06-05T08:10:14.560281+00:00",
     "start_time": "2023-06-05T08:10:14.134395+00:00"
    },
    "collapsed": false,
    "jupyter": {
     "outputs_hidden": false,
     "source_hidden": false
    },
    "noteable": {
     "cell_type": "code"
    },
    "tags": []
   },
   "outputs": [],
   "source": [
    "# Create a dataframe with the mean deaths and confirmed cases for each cluster\n",
    "mean_values_per_cluster = pd.DataFrame({\n",
    "    'Média de Óbitos': mean_deaths_per_cluster,\n",
    "    'Média de Casos Confirmados': mean_cases_per_cluster\n",
    "})\n",
    "\n",
    "# Plot the bar chart\n",
    "mean_values_per_cluster.plot(kind='bar', figsize=(10, 7))\n",
    "plt.xlabel('Cluster')\n",
    "plt.title('')\n",
    "plt.show()"
   ]
  },
  {
   "cell_type": "code",
   "execution_count": null,
   "id": "67e30c89-720a-4709-9096-d24094be84c0",
   "metadata": {
    "ExecuteTime": {
     "end_time": "2023-06-05T08:10:15.470863+00:00",
     "start_time": "2023-06-05T08:10:14.910750+00:00"
    },
    "collapsed": false,
    "jupyter": {
     "outputs_hidden": false,
     "source_hidden": false
    },
    "noteable": {
     "cell_type": "code"
    },
    "tags": []
   },
   "outputs": [],
   "source": [
    "# Create a figure and a set of subplots\n",
    "fig, ax1 = plt.subplots(figsize=(10, 7))\n",
    "\n",
    "# Plot the mean deaths on the first y-axis\n",
    "ax1.bar(mean_values_per_cluster.index, mean_values_per_cluster['Média de Óbitos'], color='b', alpha=0.5, label='Média de Óbitos')\n",
    "ax1.set_xlabel('Cluster')\n",
    "ax1.set_ylabel('Média de Óbitos', color='b')\n",
    "ax1.tick_params('y', colors='b')\n",
    "\n",
    "# Create a second y-axis\n",
    "ax2 = ax1.twinx()\n",
    "\n",
    "# Plot the mean confirmed cases on the second y-axis\n",
    "ax2.bar(mean_values_per_cluster.index, mean_values_per_cluster['Média de Casos Confirmados'], color='r', alpha=0.5, label='Média de Casos Confirmados')\n",
    "ax2.set_ylabel('Média de Casos Confirmados', color='r')\n",
    "ax2.tick_params('y', colors='r')\n",
    "\n",
    "# Set the title\n",
    "plt.title('Média de Óbitos e Casos Confirmados por Cluster')\n",
    "\n",
    "# Show the plot\n",
    "plt.show()"
   ]
  },
  {
   "cell_type": "code",
   "execution_count": null,
   "id": "2a49ac76-eff5-4bdf-8695-9624f13dbc95",
   "metadata": {
    "ExecuteTime": {
     "end_time": "2023-06-05T08:10:17.114658+00:00",
     "start_time": "2023-06-05T08:10:15.771139+00:00"
    },
    "collapsed": false,
    "jupyter": {
     "outputs_hidden": false,
     "source_hidden": false
    },
    "noteable": {
     "cell_type": "code"
    },
    "tags": []
   },
   "outputs": [],
   "source": [
    "# Filter the dataframe for Cluster 0\n",
    "cluster_0_df = selected_df[selected_df['Cluster'] == 0]\n",
    "\n",
    "# Calculate the correlation matrix\n",
    "cluster_0_corr = cluster_0_df.corr()\n",
    "\n",
    "# Plot the correlation matrix\n",
    "plt.figure(figsize=(10, 7))\n",
    "sns.heatmap(cluster_0_corr, annot=True, fmt='.2f', cmap='coolwarm', square=True)\n",
    "plt.title('Matriz de Correlação do Cluster 0')\n",
    "plt.show()"
   ]
  },
  {
   "cell_type": "code",
   "execution_count": null,
   "id": "0b9bc5df-34ea-4049-b07a-1adb713724a9",
   "metadata": {
    "ExecuteTime": {
     "end_time": "2023-06-05T08:10:17.611440+00:00",
     "start_time": "2023-06-05T08:10:17.402336+00:00"
    },
    "collapsed": false,
    "datalink": {
     "317e03e5-5ccf-4e1d-965c-0f54572d0ece": {
      "applied_filters": [],
      "dataframe_info": {
       "default_index_used": false,
       "orig_num_cols": 2,
       "orig_num_rows": 14,
       "orig_size_bytes": 336,
       "truncated_num_cols": 2,
       "truncated_num_rows": 14,
       "truncated_size_bytes": 336,
       "truncated_string_columns": []
      },
      "display_id": "317e03e5-5ccf-4e1d-965c-0f54572d0ece",
      "dx_settings": {
       "ALLOW_NOTEABLE_ATTRS": true,
       "COLUMN_SAMPLING_METHOD": "outer",
       "DB_LOCATION": ":memory:",
       "DEV_MODE": false,
       "DISPLAY_MAX_COLUMNS": 100,
       "DISPLAY_MAX_ROWS": 50000,
       "DISPLAY_MODE": "simple",
       "ENABLE_ASSIGNMENT": true,
       "ENABLE_DATALINK": true,
       "FLATTEN_COLUMN_VALUES": true,
       "FLATTEN_INDEX_VALUES": false,
       "GENERATE_DEX_METADATA": false,
       "HTML_TABLE_SCHEMA": false,
       "LOG_LEVEL": 30,
       "MAX_RENDER_SIZE_BYTES": 104857600,
       "MAX_STRING_LENGTH": 250,
       "NUM_PAST_SAMPLES_TRACKED": 3,
       "RANDOM_STATE": 12648430,
       "RESET_INDEX_VALUES": false,
       "ROW_SAMPLING_METHOD": "random",
       "SAMPLING_FACTOR": 0.1,
       "SAMPLING_METHOD": "random",
       "STRINGIFY_COLUMN_VALUES": true,
       "STRINGIFY_INDEX_VALUES": false
      },
      "sample_history": [],
      "sampling_time": "2023-06-05T08:10:17.455332",
      "user_variable_name": "correlations_df",
      "variable_name": "correlations_df"
     },
     "8f4368e4-eb4f-4f39-b498-74d70b3eef4e": {
      "applied_filters": [],
      "dataframe_info": {
       "default_index_used": false,
       "orig_num_cols": 2,
       "orig_num_rows": 14,
       "orig_size_bytes": 336,
       "truncated_num_cols": 2,
       "truncated_num_rows": 14,
       "truncated_size_bytes": 336,
       "truncated_string_columns": []
      },
      "display_id": "8f4368e4-eb4f-4f39-b498-74d70b3eef4e",
      "dx_settings": {
       "ALLOW_NOTEABLE_ATTRS": true,
       "COLUMN_SAMPLING_METHOD": "outer",
       "DB_LOCATION": ":memory:",
       "DEV_MODE": false,
       "DISPLAY_MAX_COLUMNS": 100,
       "DISPLAY_MAX_ROWS": 50000,
       "DISPLAY_MODE": "simple",
       "ENABLE_ASSIGNMENT": true,
       "ENABLE_DATALINK": true,
       "FLATTEN_COLUMN_VALUES": true,
       "FLATTEN_INDEX_VALUES": false,
       "GENERATE_DEX_METADATA": false,
       "HTML_TABLE_SCHEMA": false,
       "LOG_LEVEL": 30,
       "MAX_RENDER_SIZE_BYTES": 104857600,
       "MAX_STRING_LENGTH": 250,
       "NUM_PAST_SAMPLES_TRACKED": 3,
       "RANDOM_STATE": 12648430,
       "RESET_INDEX_VALUES": false,
       "ROW_SAMPLING_METHOD": "random",
       "SAMPLING_FACTOR": 0.1,
       "SAMPLING_METHOD": "random",
       "STRINGIFY_COLUMN_VALUES": true,
       "STRINGIFY_INDEX_VALUES": false
      },
      "sample_history": [],
      "sampling_time": "2023-06-05T07:02:33.708591",
      "user_variable_name": "correlations_df",
      "variable_name": "correlations_df"
     }
    },
    "jupyter": {
     "outputs_hidden": false,
     "source_hidden": false
    },
    "noteable": {
     "cell_type": "code"
    },
    "tags": []
   },
   "outputs": [],
   "source": [
    "# Correlation of 'TX_CASOS_CONFIRMADOS' with other variables\n",
    "confirmed_cases_corr = cluster_0_corr['TX_CASOS_CONFIRMADOS'].sort_values(ascending=False)\n",
    "\n",
    "# Correlation of 'TX_OBITO' with other variables\n",
    "deaths_corr = cluster_0_corr['TX_OBITO'].sort_values(ascending=False)\n",
    "\n",
    "# Create a dataframe with the correlations\n",
    "correlations_df = pd.DataFrame({\n",
    "    'Casos Confirmados': confirmed_cases_corr,\n",
    "    'Óbitos': deaths_corr\n",
    "})\n",
    "\n",
    "# Remove the correlations of the variables with themselves\n",
    "correlations_df = correlations_df[correlations_df.index != 'TX_CASOS_CONFIRMADOS']\n",
    "correlations_df = correlations_df[correlations_df.index != 'TX_OBITO']\n",
    "\n",
    "# Display the dataframe\n",
    "correlations_df"
   ]
  }
 ],
 "metadata": {
  "kernelspec": {
   "display_name": "Python 3 (ipykernel)",
   "language": "python",
   "name": "python3"
  },
  "language_info": {
   "codemirror_mode": {
    "name": "ipython",
    "version": 3
   },
   "file_extension": ".py",
   "mimetype": "text/x-python",
   "name": "python",
   "nbconvert_exporter": "python",
   "pygments_lexer": "ipython3",
   "version": "3.9.18"
  },
  "noteable": {
   "last_delta_id": "911421b2-7c48-4ca2-9d8a-bff45567a6af",
   "last_transaction_id": "1f99ca82-dc68-4d17-9fac-0a86ff50596c"
  },
  "noteable-chatgpt": {
   "create_notebook": {
    "openai_conversation_id": "e054f109-f0eb-51e9-a2e8-a2adaca2fc3c",
    "openai_ephemeral_user_id": "533c113b-1aa7-5667-a6b0-52428502dbe6",
    "openai_subdivision1_iso_code": "BR-SP"
   }
  },
  "nteract": {
   "version": "noteable@2.9.0"
  },
  "selected_hardware_size": "small"
 },
 "nbformat": 4,
 "nbformat_minor": 5
}
